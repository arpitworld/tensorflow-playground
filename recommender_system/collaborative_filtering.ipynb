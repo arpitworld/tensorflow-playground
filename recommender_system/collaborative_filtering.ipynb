{
 "cells": [
  {
   "cell_type": "markdown",
   "metadata": {},
   "source": [
    "Import required dependencies"
   ]
  },
  {
   "cell_type": "code",
   "execution_count": 1,
   "metadata": {
    "collapsed": true
   },
   "outputs": [],
   "source": [
    "import pandas as pd\n",
    "import numpy as np\n",
    "import tensorflow as tf\n",
    "import matplotlib.pyplot as plt\n",
    "import math"
   ]
  },
  {
   "cell_type": "markdown",
   "metadata": {},
   "source": [
    "**Import Data**\n",
    "\n",
    "File blog.csv contains a normalized rating information on 200 stories from 2000 users.   \n",
    "The ratings represent how much someone liked a story. There may be different ways to capture this information but for the purpose of this code, we'll assume we have this data available on a normalized scale (0 to 1).    \n",
    "Not all users have read all stories.  "
   ]
  },
  {
   "cell_type": "code",
   "execution_count": 2,
   "metadata": {},
   "outputs": [
    {
     "name": "stdout",
     "output_type": "stream",
     "text": [
      "119822\n"
     ]
    },
    {
     "data": {
      "text/html": [
       "<div>\n",
       "<style>\n",
       "    .dataframe thead tr:only-child th {\n",
       "        text-align: right;\n",
       "    }\n",
       "\n",
       "    .dataframe thead th {\n",
       "        text-align: left;\n",
       "    }\n",
       "\n",
       "    .dataframe tbody tr th {\n",
       "        vertical-align: top;\n",
       "    }\n",
       "</style>\n",
       "<table border=\"1\" class=\"dataframe\">\n",
       "  <thead>\n",
       "    <tr style=\"text-align: right;\">\n",
       "      <th></th>\n",
       "      <th>0</th>\n",
       "      <th>1</th>\n",
       "      <th>2</th>\n",
       "    </tr>\n",
       "  </thead>\n",
       "  <tbody>\n",
       "    <tr>\n",
       "      <th>0</th>\n",
       "      <td>0</td>\n",
       "      <td>1</td>\n",
       "      <td>0.301633</td>\n",
       "    </tr>\n",
       "    <tr>\n",
       "      <th>1</th>\n",
       "      <td>0</td>\n",
       "      <td>2</td>\n",
       "      <td>0.050480</td>\n",
       "    </tr>\n",
       "    <tr>\n",
       "      <th>2</th>\n",
       "      <td>0</td>\n",
       "      <td>4</td>\n",
       "      <td>0.141024</td>\n",
       "    </tr>\n",
       "    <tr>\n",
       "      <th>3</th>\n",
       "      <td>0</td>\n",
       "      <td>5</td>\n",
       "      <td>0.240804</td>\n",
       "    </tr>\n",
       "    <tr>\n",
       "      <th>4</th>\n",
       "      <td>0</td>\n",
       "      <td>10</td>\n",
       "      <td>0.160070</td>\n",
       "    </tr>\n",
       "  </tbody>\n",
       "</table>\n",
       "</div>"
      ],
      "text/plain": [
       "   0   1         2\n",
       "0  0   1  0.301633\n",
       "1  0   2  0.050480\n",
       "2  0   4  0.141024\n",
       "3  0   5  0.240804\n",
       "4  0  10  0.160070"
      ]
     },
     "execution_count": 2,
     "metadata": {},
     "output_type": "execute_result"
    }
   ],
   "source": [
    "ratings_df = pd.read_csv('blog.csv', header=None)\n",
    "print(len(ratings_df))    # Let's see how many rows we have\n",
    "ratings_df.head()         # Let's print first few rows"
   ]
  },
  {
   "cell_type": "markdown",
   "metadata": {},
   "source": [
    "Let's rename the columns."
   ]
  },
  {
   "cell_type": "code",
   "execution_count": 3,
   "metadata": {},
   "outputs": [
    {
     "data": {
      "text/html": [
       "<div>\n",
       "<style>\n",
       "    .dataframe thead tr:only-child th {\n",
       "        text-align: right;\n",
       "    }\n",
       "\n",
       "    .dataframe thead th {\n",
       "        text-align: left;\n",
       "    }\n",
       "\n",
       "    .dataframe tbody tr th {\n",
       "        vertical-align: top;\n",
       "    }\n",
       "</style>\n",
       "<table border=\"1\" class=\"dataframe\">\n",
       "  <thead>\n",
       "    <tr style=\"text-align: right;\">\n",
       "      <th></th>\n",
       "      <th>UserId</th>\n",
       "      <th>StoryId</th>\n",
       "      <th>Rating</th>\n",
       "    </tr>\n",
       "  </thead>\n",
       "  <tbody>\n",
       "    <tr>\n",
       "      <th>0</th>\n",
       "      <td>0</td>\n",
       "      <td>1</td>\n",
       "      <td>0.301633</td>\n",
       "    </tr>\n",
       "    <tr>\n",
       "      <th>1</th>\n",
       "      <td>0</td>\n",
       "      <td>2</td>\n",
       "      <td>0.050480</td>\n",
       "    </tr>\n",
       "    <tr>\n",
       "      <th>2</th>\n",
       "      <td>0</td>\n",
       "      <td>4</td>\n",
       "      <td>0.141024</td>\n",
       "    </tr>\n",
       "    <tr>\n",
       "      <th>3</th>\n",
       "      <td>0</td>\n",
       "      <td>5</td>\n",
       "      <td>0.240804</td>\n",
       "    </tr>\n",
       "    <tr>\n",
       "      <th>4</th>\n",
       "      <td>0</td>\n",
       "      <td>10</td>\n",
       "      <td>0.160070</td>\n",
       "    </tr>\n",
       "  </tbody>\n",
       "</table>\n",
       "</div>"
      ],
      "text/plain": [
       "   UserId  StoryId    Rating\n",
       "0       0        1  0.301633\n",
       "1       0        2  0.050480\n",
       "2       0        4  0.141024\n",
       "3       0        5  0.240804\n",
       "4       0       10  0.160070"
      ]
     },
     "execution_count": 3,
     "metadata": {},
     "output_type": "execute_result"
    }
   ],
   "source": [
    "ratings_df.columns = ['UserId', 'StoryId', 'Rating']\n",
    "ratings_df.head()"
   ]
  },
  {
   "cell_type": "markdown",
   "metadata": {},
   "source": [
    "Now, pivot table to get a **M * K** Matrix."
   ]
  },
  {
   "cell_type": "code",
   "execution_count": 4,
   "metadata": {
    "collapsed": true
   },
   "outputs": [],
   "source": [
    "y_df = ratings_df.pivot_table(index=['StoryId'], columns=['UserId'])\n",
    "y = np.array(y_df)\n",
    "\n",
    "y_bool = np.where(np.isnan(y), 0, 1).astype(bool)\n",
    "y_map = np.where(np.isnan(y), 0, y)"
   ]
  },
  {
   "cell_type": "markdown",
   "metadata": {},
   "source": [
    "Let's define 3 variables M,N,K\n",
    "- M = Number of Stories  \n",
    "- N = Number of Features (We'll assume it to be 20 for now)  \n",
    "- K = Number of users."
   ]
  },
  {
   "cell_type": "code",
   "execution_count": 5,
   "metadata": {},
   "outputs": [
    {
     "name": "stdout",
     "output_type": "stream",
     "text": [
      "200 Stories\n",
      "20 Features\n",
      "2000 Users\n"
     ]
    }
   ],
   "source": [
    "M,K = y_map.shape\n",
    "N = 20\n",
    "print(M,'Stories')\n",
    "print(N,'Features')\n",
    "print(K,'Users')"
   ]
  },
  {
   "cell_type": "markdown",
   "metadata": {},
   "source": [
    "Set apart 30% of data as testing data and rest is all training data"
   ]
  },
  {
   "cell_type": "code",
   "execution_count": 6,
   "metadata": {
    "collapsed": true
   },
   "outputs": [],
   "source": [
    "r = np.random.random([M,K])\n",
    "y_train_bool = tf.to_float(y_bool * np.greater(r,0.3))\n",
    "y_test_bool = tf.to_float(y_bool * np.greater(0.3, r))\n"
   ]
  },
  {
   "cell_type": "markdown",
   "metadata": {},
   "source": [
    "Let's define x as a feature tensor.   \n",
    "This is going to be a **M * N** matrix.\n",
    "\n",
    "For each story - \n",
    "We define N features from ($x_1$, $x_2$, ... $x_n$)  \n",
    "\n",
    "We don't know the features yet, so we'll learn it over time.  \n",
    "For now, let's assume **small** random values.  "
   ]
  },
  {
   "cell_type": "code",
   "execution_count": 7,
   "metadata": {
    "collapsed": true
   },
   "outputs": [],
   "source": [
    "x = tf.Variable(tf.random_uniform([M,N]))/100"
   ]
  },
  {
   "cell_type": "markdown",
   "metadata": {},
   "source": [
    "Similarly define a weight matrix w for all users.  \n",
    "This is going to be a **N * K ** matrix.\n",
    "\n",
    "For each user - what is the weight (liking) towards each of those N features.  "
   ]
  },
  {
   "cell_type": "code",
   "execution_count": 8,
   "metadata": {
    "collapsed": true
   },
   "outputs": [],
   "source": [
    "w = tf.Variable(tf.random_uniform([N, K]))/100\n",
    "b = tf.Variable(tf.random_uniform([K]))/100"
   ]
  },
  {
   "cell_type": "markdown",
   "metadata": {},
   "source": [
    "Hypothesis (Model).\n",
    "\n",
    "For now we'll consider a Logistic Regression Model.\n",
    "\n",
    "$$h = x*w +b $$"
   ]
  },
  {
   "cell_type": "code",
   "execution_count": 9,
   "metadata": {
    "collapsed": true
   },
   "outputs": [],
   "source": [
    "h = tf.matmul(x,w) + b"
   ]
  },
  {
   "cell_type": "markdown",
   "metadata": {},
   "source": [
    "Regularization Parameter to avoid overfitting"
   ]
  },
  {
   "cell_type": "code",
   "execution_count": 10,
   "metadata": {
    "collapsed": true
   },
   "outputs": [],
   "source": [
    "lambda_ = tf.to_float(2.5)"
   ]
  },
  {
   "cell_type": "markdown",
   "metadata": {},
   "source": [
    "Training Cost Function.\n",
    "\n",
    "$$ J(w,x) = \\frac{1}{2}\\sum((h-y)^2) + \\frac{\\lambda}{2}\\sum(x^2) + \\frac{\\lambda}{2}\\sum(w^2) $$\n"
   ]
  },
  {
   "cell_type": "code",
   "execution_count": 11,
   "metadata": {
    "collapsed": true
   },
   "outputs": [],
   "source": [
    "cost_function = (\n",
    "    (0.5)*tf.reduce_sum(y_train_bool * tf.square(h-y_map)) + \\\n",
    "    (lambda_/2)*tf.reduce_sum(tf.square(x)) + \\\n",
    "    (lambda_/2)*tf.reduce_sum(tf.square(w))\n",
    ") "
   ]
  },
  {
   "cell_type": "markdown",
   "metadata": {},
   "source": [
    "Testing Cost Function : \n",
    "$$ J(w,x) = \\frac{1}{2}\\sum((h-y)^2))$$\n"
   ]
  },
  {
   "cell_type": "code",
   "execution_count": 12,
   "metadata": {
    "collapsed": true
   },
   "outputs": [],
   "source": [
    "cost_function_test =  (\n",
    "  (0.5)*tf.reduce_sum(y_test_bool*tf.square(h-y_map))\n",
    ")\n"
   ]
  },
  {
   "cell_type": "markdown",
   "metadata": {},
   "source": [
    "Define your optimizer."
   ]
  },
  {
   "cell_type": "code",
   "execution_count": 13,
   "metadata": {
    "collapsed": true
   },
   "outputs": [],
   "source": [
    "alpha = tf.placeholder(tf.float32)  # Learning Rate\n",
    "\n",
    "training_step = tf.train.AdamOptimizer(alpha).minimize(cost_function)"
   ]
  },
  {
   "cell_type": "code",
   "execution_count": 14,
   "metadata": {
    "collapsed": true
   },
   "outputs": [],
   "source": [
    "# init\n",
    "init = tf.global_variables_initializer()\n",
    "sess = tf.Session()\n",
    "sess.run(init)"
   ]
  },
  {
   "cell_type": "markdown",
   "metadata": {},
   "source": [
    "Let's begin Training\n",
    "\n",
    "\n"
   ]
  },
  {
   "cell_type": "code",
   "execution_count": 15,
   "metadata": {},
   "outputs": [
    {
     "name": "stdout",
     "output_type": "stream",
     "text": [
      "0 3316.88 1402.09\n",
      "20 1829.12 767.029\n",
      "40 1764.61 747.476\n",
      "60 1730.69 739.34\n",
      "80 1703.56 737.748\n",
      "100 1677.65 732.917\n",
      "120 1651.21 726.639\n",
      "140 1619.86 717.115\n",
      "160 1579.69 702.925\n",
      "180 1533.79 685.251\n",
      "200 1489.38 667.142\n",
      "220 1450.81 650.734\n",
      "240 1418.85 636.59\n",
      "260 1392.86 624.566\n",
      "280 1371.9 614.365\n",
      "300 1355.06 605.7\n",
      "320 1341.57 598.336\n",
      "340 1330.83 592.089\n",
      "360 1322.29 586.799\n",
      "380 1315.52 582.326\n",
      "400 1310.12 578.544\n",
      "420 1305.79 575.351\n",
      "440 1302.28 572.665\n",
      "460 1299.42 570.414\n",
      "480 1297.06 568.539\n",
      "500 1295.09 566.985\n",
      "520 1293.44 565.7\n",
      "540 1292.04 564.638\n",
      "560 1290.85 563.761\n",
      "580 1289.84 563.034\n",
      "600 1288.98 562.43\n",
      "620 1288.25 561.925\n",
      "640 1287.62 561.501\n",
      "660 1287.09 561.144\n",
      "680 1286.64 560.841\n",
      "700 1286.26 560.584\n",
      "720 1285.93 560.366\n",
      "740 1285.64 560.18\n",
      "760 1285.4 560.021\n",
      "780 1285.18 559.886\n",
      "800 1285.0 559.771\n",
      "820 1284.83 559.673\n",
      "840 1284.69 559.59\n",
      "860 1284.56 559.519\n",
      "880 1284.44 559.459\n",
      "900 1284.33 559.409\n",
      "920 1284.24 559.365\n",
      "940 1284.15 559.328\n",
      "960 1284.07 559.296\n",
      "980 1283.99 559.269\n",
      "Training Complete\n"
     ]
    }
   ],
   "source": [
    "plot_data = {'c_test' : [], 'c_train' : []}\n",
    "iters = 1000\n",
    "\n",
    "for i in range(iters):\n",
    "    # Exponentially decay learning rate\n",
    "    max_learning_rate = 1\n",
    "    min_learning_rate = 0.1\n",
    "    decay_speed = 50\n",
    "    learning_rate = min_learning_rate + \\\n",
    "    (max_learning_rate - min_learning_rate) * math.exp(-i/decay_speed)\n",
    "\n",
    "    # Optimize\n",
    "    _, c, ct = sess.run([training_step, cost_function, cost_function_test], {alpha: learning_rate})\n",
    "    \n",
    "    # Store cost function for each iteration\n",
    "    plot_data['c_train'].append(c)\n",
    "    plot_data['c_test'].append(ct)\n",
    "    \n",
    "    # Print occasionally to see progress\n",
    "    if i%20==0:\n",
    "        print(i, c, ct)\n",
    "\n",
    "print(\"Training Complete\")"
   ]
  },
  {
   "cell_type": "code",
   "execution_count": 16,
   "metadata": {},
   "outputs": [
    {
     "data": {
      "image/png": "[encoded data removed]",
      "text/plain": [
       "<matplotlib.figure.Figure at 0x110ee88d0>"
      ]
     },
     "metadata": {},
     "output_type": "display_data"
    }
   ],
   "source": [
    "# Plotting Training Error Chart\n",
    "plt.plot(range(iters), plot_data['c_train'])\n",
    "plt.show()"
   ]
  },
  {
   "cell_type": "code",
   "execution_count": 17,
   "metadata": {},
   "outputs": [
    {
     "data": {
      "image/png": "[encoded data removed]",
      "text/plain": [
       "<matplotlib.figure.Figure at 0x111e6e278>"
      ]
     },
     "metadata": {},
     "output_type": "display_data"
    }
   ],
   "source": [
    "# Plotting Testing Error Chart\n",
    "plt.plot(range(iters), plot_data['c_test'])\n",
    "plt.show()"
   ]
  },
  {
   "cell_type": "markdown",
   "metadata": {},
   "source": [
    "**Prediction**\n",
    "\n",
    "Run the model on the 30% data that we had set aside.\n",
    "\n",
    "Take the predicted and the real values for the same set of data and plot to see how close are we."
   ]
  },
  {
   "cell_type": "code",
   "execution_count": 18,
   "metadata": {},
   "outputs": [
    {
     "data": {
      "image/png": "[encoded data removed]",
      "text/plain": [
       "<matplotlib.figure.Figure at 0x10febe9e8>"
      ]
     },
     "metadata": {},
     "output_type": "display_data"
    }
   ],
   "source": [
    "evaluated_y_test_bool, predicted = sess.run([y_test_bool, h])\n",
    "evaluated_y_test_bool = evaluated_y_test_bool.astype(bool)\n",
    "\n",
    "predicted = predicted*evaluated_y_test_bool\n",
    "real = y_map*evaluated_y_test_bool\n",
    "\n",
    "predicted = predicted[predicted.nonzero()]\n",
    "real = real[real.nonzero()]\n",
    "\n",
    "yi = np.lexsort((predicted, real))\n",
    "\n",
    "predicted, real = predicted[yi], real[yi]\n",
    "\n",
    "plt.plot(range(len(predicted)), predicted)\n",
    "plt.plot(range(len(real)), real)\n",
    "plt.show()"
   ]
  },
  {
   "cell_type": "markdown",
   "metadata": {
    "collapsed": true
   },
   "source": [
    "The orange line here is a set of real ratings from the data.  \n",
    "The blue line is the predicted ratings.  \n",
    "Although we are not very close, you can see that the model has started following the trend of the curve.\n",
    "\n",
    "***We can say that the model has started to learn.***\n",
    "\n",
    "This is a very simple collabrative filtering algorithm in which we learn both the features as well as weights and biases using a very simple linear regression based model.\n",
    "\n",
    "This can further be enhanced to use more complicated models of higher order or even Neural Networks."
   ]
  }
 ],
 "metadata": {
  "kernelspec": {
   "display_name": "Python 3",
   "language": "python",
   "name": "python3"
  },
  "language_info": {
   "codemirror_mode": {
    "name": "ipython",
    "version": 3
   },
   "file_extension": ".py",
   "mimetype": "text/x-python",
   "name": "python",
   "nbconvert_exporter": "python",
   "pygments_lexer": "ipython3",
   "version": "3.6.1"
  }
 },
 "nbformat": 4,
 "nbformat_minor": 2
}
